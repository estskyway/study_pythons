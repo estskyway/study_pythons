{
  "nbformat": 4,
  "nbformat_minor": 0,
  "metadata": {
    "colab": {
      "provenance": [],
      "authorship_tag": "ABX9TyPhc3SIpoI9nEy8tSbpYFpo",
      "include_colab_link": true
    },
    "kernelspec": {
      "name": "python3",
      "display_name": "Python 3"
    },
    "language_info": {
      "name": "python"
    }
  },
  "cells": [
    {
      "cell_type": "markdown",
      "metadata": {
        "id": "view-in-github",
        "colab_type": "text"
      },
      "source": [
        "<a href=\"https://colab.research.google.com/github/estskyway/toy_pythons/blob/main/whiles_geosan.ipynb\" target=\"_parent\"><img src=\"https://colab.research.google.com/assets/colab-badge.svg\" alt=\"Open In Colab\"/></a>"
      ]
    },
    {
      "cell_type": "code",
      "execution_count": 19,
      "metadata": {
        "id": "ISD0LOjZXPGU"
      },
      "outputs": [],
      "source": [
        "first = 1"
      ]
    },
    {
      "cell_type": "code",
      "source": [
        "while first < 4 :\n",
        "  print(first)\n",
        "  print('in whiling')\n",
        "  first = first +1\n",
        "  # 이렇게도 사용가능 \n",
        "  # first += 1\n",
        "print('END')"
      ],
      "metadata": {
        "colab": {
          "base_uri": "https://localhost:8080/"
        },
        "id": "UAtdx0DsXyKs",
        "outputId": "70d459ad-66ed-4818-afc0-0acba6501640"
      },
      "execution_count": 20,
      "outputs": [
        {
          "output_type": "stream",
          "name": "stdout",
          "text": [
            "1\n",
            "in whiling\n",
            "2\n",
            "in whiling\n",
            "3\n",
            "in whiling\n",
            "END\n"
          ]
        }
      ]
    }
  ]
}